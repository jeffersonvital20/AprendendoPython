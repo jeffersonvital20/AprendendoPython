{
 "cells": [
  {
   "cell_type": "code",
   "execution_count": 2,
   "metadata": {
    "collapsed": true
   },
   "outputs": [],
   "source": [
    "import sqlite3\n",
    "import random\n",
    "import time\n",
    "import datetime\n",
    "import matplotlib.pyplot as plt\n",
    "\n",
    "conn = sqlite3.connect('dsa.db')\n",
    "c = conn.cursor()\n",
    "\n",
    "def create_table():\n",
    "    c.execute('CREATE TABLE IF NOT EXISTS produtos(id INTEGER PRIMARY KEY AUTOINCREMENT NOT NULL,date TEXT, prod_name TEXT, valor REAL)')\n",
    "def data_insert():\n",
    "    c.execute(\"INSERT INTO produtos VALUES(10,'2017-10-25 00:52','teclado',90)\")\n",
    "    conn.commit()\n",
    "    c.close()\n",
    "    conn.close()\n",
    "def data_insert_var():\n",
    "    new_date = datetime.datetime.now()\n",
    "    new_prod_name = 'Monitor'\n",
    "    new_valor = random.randrange(50,100)\n",
    "    c.execute(\"INSERT INTO produtos(date, prod_name, valor) VALUES (?,?,?)\",(new_date,new_prod_name,new_valor))\n",
    "    conn.commit()\n",
    "def leitura_todos_dados():\n",
    "    c.execute('SELECT * FROM PRODUTOS')\n",
    "    for linha in c.fetchall():\n",
    "        print(linha)\n",
    "def leitura_registros():\n",
    "    c.execute('SELECT * FROM PRODUTOS WHERE valor > 60.0')\n",
    "    for linha in c.fetchall():\n",
    "        print(linha)\n",
    "def leitura_colunas():\n",
    "    c.execute('SELECT * FROM PRODUTOS')\n",
    "    for linha in c.fetchall():\n",
    "        print(linha[3])\n",
    "\n",
    "def dados_grafico():\n",
    "    c.execute('SELECT id, valor FROM PRODUTOS')\n",
    "    ids = []\n",
    "    valores = []\n",
    "    dados = c.fetchall()\n",
    "    for linha in dados:\n",
    "        ids.append(linha[0])\n",
    "        valores.append(linha[1])\n",
    "    plt.bar(ids,valores)\n",
    "    plt.show()"
   ]
  },
  {
   "cell_type": "code",
   "execution_count": 2,
   "metadata": {
    "collapsed": true
   },
   "outputs": [],
   "source": [
    "create_table()"
   ]
  },
  {
   "cell_type": "code",
   "execution_count": 3,
   "metadata": {
    "collapsed": true
   },
   "outputs": [],
   "source": [
    "data_insert()"
   ]
  },
  {
   "cell_type": "code",
   "execution_count": 6,
   "metadata": {
    "collapsed": true
   },
   "outputs": [],
   "source": [
    "for i  in range(10):\n",
    "    data_insert_var()\n",
    "    time.sleep(1)\n",
    "c.close()\n",
    "conn.close()"
   ]
  },
  {
   "cell_type": "code",
   "execution_count": 3,
   "metadata": {
    "collapsed": false
   },
   "outputs": [
    {
     "data": {
      "image/png": "[encoded data removed]",
      "text/plain": [
       "<matplotlib.figure.Figure at 0x7f8295bd64e0>"
      ]
     },
     "metadata": {},
     "output_type": "display_data"
    }
   ],
   "source": [
    "dados_grafico()"
   ]
  },
  {
   "cell_type": "code",
   "execution_count": 12,
   "metadata": {
    "collapsed": false
   },
   "outputs": [
    {
     "name": "stdout",
     "output_type": "stream",
     "text": [
      "(10, '2017-10-25 00:52', 'teclado', 90.0)\n",
      "(11, '2017-10-25 01:04:03.663141', 'Monitor', 62.0)\n",
      "(12, '2017-10-25 01:04:04.738071', 'Monitor', 68.0)\n",
      "(13, '2017-10-25 01:04:05.796217', 'Monitor', 51.0)\n",
      "(14, '2017-10-25 01:04:06.853584', 'Monitor', 86.0)\n",
      "(15, '2017-10-25 01:04:07.904519', 'Monitor', 73.0)\n",
      "(16, '2017-10-25 01:04:08.962855', 'Monitor', 96.0)\n",
      "(17, '2017-10-25 01:04:10.004489', 'Monitor', 67.0)\n",
      "(18, '2017-10-25 01:04:11.046215', 'Monitor', 91.0)\n",
      "(19, '2017-10-25 01:04:12.096231', 'Monitor', 63.0)\n",
      "(20, '2017-10-25 01:04:13.137693', 'Monitor', 67.0)\n"
     ]
    }
   ],
   "source": [
    "leitura_todos_dados()"
   ]
  },
  {
   "cell_type": "code",
   "execution_count": 15,
   "metadata": {
    "collapsed": false
   },
   "outputs": [
    {
     "name": "stdout",
     "output_type": "stream",
     "text": [
      "(10, '2017-10-25 00:52', 'teclado', 90.0)\n",
      "(11, '2017-10-25 01:04:03.663141', 'Monitor', 62.0)\n",
      "(12, '2017-10-25 01:04:04.738071', 'Monitor', 68.0)\n",
      "(14, '2017-10-25 01:04:06.853584', 'Monitor', 86.0)\n",
      "(15, '2017-10-25 01:04:07.904519', 'Monitor', 73.0)\n",
      "(16, '2017-10-25 01:04:08.962855', 'Monitor', 96.0)\n",
      "(17, '2017-10-25 01:04:10.004489', 'Monitor', 67.0)\n",
      "(18, '2017-10-25 01:04:11.046215', 'Monitor', 91.0)\n",
      "(19, '2017-10-25 01:04:12.096231', 'Monitor', 63.0)\n",
      "(20, '2017-10-25 01:04:13.137693', 'Monitor', 67.0)\n"
     ]
    }
   ],
   "source": [
    "leitura_registros()"
   ]
  },
  {
   "cell_type": "code",
   "execution_count": 16,
   "metadata": {
    "collapsed": false
   },
   "outputs": [
    {
     "name": "stdout",
     "output_type": "stream",
     "text": [
      "90.0\n",
      "62.0\n",
      "68.0\n",
      "51.0\n",
      "86.0\n",
      "73.0\n",
      "96.0\n",
      "67.0\n",
      "91.0\n",
      "63.0\n",
      "67.0\n"
     ]
    }
   ],
   "source": [
    "leitura_colunas()"
   ]
  },
  {
   "cell_type": "code",
   "execution_count": null,
   "metadata": {
    "collapsed": true
   },
   "outputs": [],
   "source": []
  }
 ],
 "metadata": {
  "kernelspec": {
   "display_name": "Python 3",
   "language": "python",
   "name": "python3"
  },
  "language_info": {
   "codemirror_mode": {
    "name": "ipython",
    "version": 3
   },
   "file_extension": ".py",
   "mimetype": "text/x-python",
   "name": "python",
   "nbconvert_exporter": "python",
   "pygments_lexer": "ipython3",
   "version": "3.6.3"
  }
 },
 "nbformat": 4,
 "nbformat_minor": 1
}
