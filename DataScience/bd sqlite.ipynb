{
 "cells": [
  {
   "cell_type": "code",
   "execution_count": 7,
   "metadata": {
    "collapsed": true
   },
   "outputs": [],
   "source": [
    "import sqlite3\n",
    "import random\n",
    "import time\n",
    "import datetime\n",
    "import matplotlib.pyplot as plt\n",
    "\n",
    "conn = sqlite3.connect('dsa.db')\n",
    "c = conn.cursor()\n",
    "\n",
    "def create_table():\n",
    "    c.execute('CREATE TABLE IF NOT EXISTS produtos(id INTEGER PRIMARY KEY AUTOINCREMENT NOT NULL,date TEXT, prod_name TEXT, valor REAL)')\n",
    "def data_insert():\n",
    "    c.execute(\"INSERT INTO produtos VALUES(10,'2017-10-25 00:52','teclado',90)\")\n",
    "    conn.commit()\n",
    "    c.close()\n",
    "    conn.close()\n",
    "def data_insert_var():\n",
    "    new_date = datetime.datetime.now()\n",
    "    new_prod_name = 'Monitor'\n",
    "    new_valor = random.randrange(50,100)\n",
    "    c.execute(\"INSERT INTO produtos(date, prod_name, valor) VALUES (?,?,?)\",(new_date,new_prod_name,new_valor))\n",
    "    conn.commit()\n",
    "def leitura_todos_dados():\n",
    "    c.execute('SELECT * FROM PRODUTOS')\n",
    "    for linha in c.fetchall():\n",
    "        print(linha)\n",
    "def leitura_registros():\n",
    "    c.execute('SELECT * FROM PRODUTOS WHERE valor > 60.0')\n",
    "    for linha in c.fetchall():\n",
    "        print(linha)\n",
    "def leitura_colunas():\n",
    "    c.execute('SELECT * FROM PRODUTOS')\n",
    "    for linha in c.fetchall():\n",
    "        print(linha[3])\n",
    "\n",
    "def dados_grafico():\n",
    "    c.execute('SELECT id, valor FROM PRODUTOS')\n",
    "    ids = []\n",
    "    valores = []\n",
    "    dados = c.fetchall()\n",
    "    for linha in dados:\n",
    "        ids.append(linha[0])\n",
    "        valores.append(linha[1])\n",
    "    plt.bar(ids,valores)\n",
    "    plt.show()"
   ]
  },
  {
   "cell_type": "code",
   "execution_count": 2,
   "metadata": {
    "collapsed": true
   },
   "outputs": [],
   "source": [
    "create_table()"
   ]
  },
  {
   "cell_type": "code",
   "execution_count": 3,
   "metadata": {
    "collapsed": true
   },
   "outputs": [],
   "source": [
    "data_insert()"
   ]
  },
  {
   "cell_type": "code",
   "execution_count": 5,
   "metadata": {
    "collapsed": true
   },
   "outputs": [],
   "source": [
    "for i  in range(10):\n",
    "    data_insert_var()\n",
    "    time.sleep(1)\n",
    "c.close()\n",
    "conn.close()"
   ]
  },
  {
   "cell_type": "code",
   "execution_count": 11,
   "metadata": {
    "collapsed": false
   },
   "outputs": [
    {
     "data": {
      "image/png": "[encoded data removed]",
      "text/plain": [
       "<matplotlib.figure.Figure at 0x1e04e2db160>"
      ]
     },
     "metadata": {},
     "output_type": "display_data"
    }
   ],
   "source": [
    "dados_grafico()"
   ]
  },
  {
   "cell_type": "code",
   "execution_count": 8,
   "metadata": {
    "collapsed": false
   },
   "outputs": [
    {
     "name": "stdout",
     "output_type": "stream",
     "text": [
      "(10, '2017-10-25 00:52', 'teclado', 90.0)\n",
      "(11, '2017-10-25 01:04:03.663141', 'Monitor', 62.0)\n",
      "(12, '2017-10-25 01:04:04.738071', 'Monitor', 68.0)\n",
      "(13, '2017-10-25 01:04:05.796217', 'Monitor', 51.0)\n",
      "(14, '2017-10-25 01:04:06.853584', 'Monitor', 86.0)\n",
      "(15, '2017-10-25 01:04:07.904519', 'Monitor', 73.0)\n",
      "(16, '2017-10-25 01:04:08.962855', 'Monitor', 96.0)\n",
      "(17, '2017-10-25 01:04:10.004489', 'Monitor', 67.0)\n",
      "(18, '2017-10-25 01:04:11.046215', 'Monitor', 91.0)\n",
      "(19, '2017-10-25 01:04:12.096231', 'Monitor', 63.0)\n",
      "(20, '2017-10-25 01:04:13.137693', 'Monitor', 67.0)\n",
      "(21, '2017-12-27 14:03:39.572563', 'Monitor', 65.0)\n",
      "(22, '2017-12-27 14:03:40.600049', 'Monitor', 74.0)\n",
      "(23, '2017-12-27 14:03:41.613291', 'Monitor', 67.0)\n",
      "(24, '2017-12-27 14:03:42.627493', 'Monitor', 93.0)\n",
      "(25, '2017-12-27 14:03:43.640333', 'Monitor', 86.0)\n",
      "(26, '2017-12-27 14:03:44.655863', 'Monitor', 54.0)\n",
      "(27, '2017-12-27 14:03:45.669180', 'Monitor', 85.0)\n",
      "(28, '2017-12-27 14:03:46.681790', 'Monitor', 62.0)\n",
      "(29, '2017-12-27 14:03:47.694512', 'Monitor', 75.0)\n",
      "(30, '2017-12-27 14:03:48.708897', 'Monitor', 90.0)\n"
     ]
    }
   ],
   "source": [
    "leitura_todos_dados()"
   ]
  },
  {
   "cell_type": "code",
   "execution_count": 10,
   "metadata": {
    "collapsed": false
   },
   "outputs": [
    {
     "name": "stdout",
     "output_type": "stream",
     "text": [
      "(10, '2017-10-25 00:52', 'teclado', 90.0)\n",
      "(11, '2017-10-25 01:04:03.663141', 'Monitor', 62.0)\n",
      "(12, '2017-10-25 01:04:04.738071', 'Monitor', 68.0)\n",
      "(14, '2017-10-25 01:04:06.853584', 'Monitor', 86.0)\n",
      "(15, '2017-10-25 01:04:07.904519', 'Monitor', 73.0)\n",
      "(16, '2017-10-25 01:04:08.962855', 'Monitor', 96.0)\n",
      "(17, '2017-10-25 01:04:10.004489', 'Monitor', 67.0)\n",
      "(18, '2017-10-25 01:04:11.046215', 'Monitor', 91.0)\n",
      "(19, '2017-10-25 01:04:12.096231', 'Monitor', 63.0)\n",
      "(20, '2017-10-25 01:04:13.137693', 'Monitor', 67.0)\n",
      "(21, '2017-12-27 14:03:39.572563', 'Monitor', 65.0)\n",
      "(22, '2017-12-27 14:03:40.600049', 'Monitor', 74.0)\n",
      "(23, '2017-12-27 14:03:41.613291', 'Monitor', 67.0)\n",
      "(24, '2017-12-27 14:03:42.627493', 'Monitor', 93.0)\n",
      "(25, '2017-12-27 14:03:43.640333', 'Monitor', 86.0)\n",
      "(27, '2017-12-27 14:03:45.669180', 'Monitor', 85.0)\n",
      "(28, '2017-12-27 14:03:46.681790', 'Monitor', 62.0)\n",
      "(29, '2017-12-27 14:03:47.694512', 'Monitor', 75.0)\n",
      "(30, '2017-12-27 14:03:48.708897', 'Monitor', 90.0)\n"
     ]
    }
   ],
   "source": [
    "leitura_registros()"
   ]
  },
  {
   "cell_type": "code",
   "execution_count": 9,
   "metadata": {
    "collapsed": false
   },
   "outputs": [
    {
     "name": "stdout",
     "output_type": "stream",
     "text": [
      "90.0\n",
      "62.0\n",
      "68.0\n",
      "51.0\n",
      "86.0\n",
      "73.0\n",
      "96.0\n",
      "67.0\n",
      "91.0\n",
      "63.0\n",
      "67.0\n",
      "65.0\n",
      "74.0\n",
      "67.0\n",
      "93.0\n",
      "86.0\n",
      "54.0\n",
      "85.0\n",
      "62.0\n",
      "75.0\n",
      "90.0\n"
     ]
    }
   ],
   "source": [
    "leitura_colunas()"
   ]
  },
  {
   "cell_type": "code",
   "execution_count": null,
   "metadata": {
    "collapsed": true
   },
   "outputs": [],
   "source": []
  }
 ],
 "metadata": {
  "kernelspec": {
   "display_name": "Python 3",
   "language": "python",
   "name": "python3"
  },
  "language_info": {
   "codemirror_mode": {
    "name": "ipython",
    "version": 3
   },
   "file_extension": ".py",
   "mimetype": "text/x-python",
   "name": "python",
   "nbconvert_exporter": "python",
   "pygments_lexer": "ipython3",
   "version": "3.6.3"
  }
 },
 "nbformat": 4,
 "nbformat_minor": 1
}
